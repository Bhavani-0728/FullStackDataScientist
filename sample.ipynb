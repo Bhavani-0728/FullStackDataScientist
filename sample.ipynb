{
 "cells": [
  {
   "cell_type": "code",
   "execution_count": 8,
   "id": "b1c020cb",
   "metadata": {},
   "outputs": [
    {
     "name": "stdout",
     "output_type": "stream",
     "text": [
      "Total Bill = ( 50 * 2 )+( 30 * 5 )+( 20 * 3 )= 100 + 150 + 60 = 310\n"
     ]
    }
   ],
   "source": [
    "#1 Scenario: A grocery shopkeeper wants to calculate the bill of 3 items. Prices and quantities should be stored in variables, and the program should display the total cost.\n",
    "# Sample Input:\n",
    "# Item1 Price: 50, Quantity: 2\n",
    "# Item2 Price: 30, Quantity: 5\n",
    "#Item3 Price: 20, Quantity: 3\n",
    "# Expected Output:\n",
    "# Total Bill = (50*2) + (30*5) + (20*3) = 100 + 150 + 60 = 310\n",
    "\n",
    "item1=int(input(\"Item1 Price:\"))\n",
    "qty1=int(input(\"Quantity:\"))\n",
    "item2=int(input(\"Item2 Price:\"))\n",
    "qty2=int(input(\"Quantity:\"))\n",
    "item3=int(input(\"Item3 Price:\"))\n",
    "qty3=int(input(\"Quantity:\"))\n",
    "\n",
    "total_bill=(item1*qty1)+(item2*qty2)+(item3*qty3)\n",
    "\n",
    "print(\"Total Bill = (\",item1,\"*\",qty1,\")+(\",item2,\"*\",qty2,\")+(\",item3,\"*\",qty3,\")=\",(item1*qty1),\"+\",(item2*qty2),\"+\",(item3*qty3),\"=\",(total_bill))"
   ]
  },
  {
   "cell_type": "code",
   "execution_count": 9,
   "id": "a0c287af",
   "metadata": {},
   "outputs": [
    {
     "name": "stdout",
     "output_type": "stream",
     "text": [
      "Addition =  9\n",
      "Subtraction =  1\n",
      "Multiplication =  20\n",
      "Division =  1.25\n",
      "Modulus =  1\n"
     ]
    }
   ],
   "source": [
    "# 2 Build a calculator that takes two numbers and performs addition, subtraction, multiplication, division, and modulus. \n",
    "# Sample Input: \n",
    "# Enter first number: 15\n",
    "# Enter second number: 4\n",
    "# Expected Output: \n",
    "# Addition = 19\n",
    "# Subtraction = 11\n",
    "# Multiplication = 60\n",
    "# Division = 3.75\n",
    "# Modulus = 3\n",
    "\n",
    "n1=int(input(\"Enter first number:\"))\n",
    "n2=int(input(\"Enter second number:\"))\n",
    "print(\"Addition = \",(n1+n2))\n",
    "print(\"Subtraction = \",(n1-n2))\n",
    "print(\"Multiplication = \",(n1*n2))\n",
    "print(\"Division = \",(n1/n2))\n",
    "print(\"Modulus = \",(n1%n2))"
   ]
  },
  {
   "cell_type": "code",
   "execution_count": 12,
   "id": "c8a16b7d",
   "metadata": {},
   "outputs": [
    {
     "name": "stdout",
     "output_type": "stream",
     "text": [
      "Grade: C (Good)\n"
     ]
    }
   ],
   "source": [
    "# 3 A teacher wants a grading system where marks are input, and the grade is displayed.\n",
    "# Sample Input:\n",
    "# Enter marks: 82 \n",
    "# Expected Output: \n",
    "# Grade: A (Excellent) \n",
    "# (Rules: >=90 → A+, 80–89 → A, 70–79 → B, 60–69 → C, <60 → Fail)\n",
    "\n",
    "m = int(input(\"Enter marks:\"))\n",
    "if m >= 90:\n",
    "    grade = \"A+ (Outstanding)\"\n",
    "elif 80 <= m <= 89:\n",
    "    grade = \"A (Excellent)\"\n",
    "elif 70 <= m <= 79:\n",
    "    grade = \"B (Very Good)\"\n",
    "elif 60 <= m < 69:\n",
    "    grade = \"C (Good)\"\n",
    "else:\n",
    "    grade = \"Fail\"\n",
    "print(\"Grade:\", grade)\n"
   ]
  },
  {
   "cell_type": "code",
   "execution_count": 17,
   "id": "c5fbcbbf",
   "metadata": {},
   "outputs": [
    {
     "name": "stdout",
     "output_type": "stream",
     "text": [
      "Highest Marks =  89\n",
      "Lowest Marks =  21\n",
      "Average Marks =  46.8\n"
     ]
    }
   ],
   "source": [
    "# 4 Student Marks List\n",
    "# Scenario: Store marks of 5 students in a list. Display the highest, lowest, and average marks.\n",
    "# Sample Input: \n",
    "# Marks: [45, 78, 88, 56, 90] \n",
    "# Expected Output: \n",
    "# Highest Marks = 90\n",
    "# Lowest Marks = 45\n",
    "# Average Marks = 71.4\n",
    "\n",
    "l=[int(input()) for _ in range(5)]\n",
    "print(\"Highest Marks = \",max(l))\n",
    "print(\"Lowest Marks = \",min(l))\n",
    "print(\"Average Marks = \",(sum(l)/len(l)))"
   ]
  },
  {
   "cell_type": "code",
   "execution_count": 18,
   "id": "d597d97c",
   "metadata": {},
   "outputs": [
    {
     "name": "stdout",
     "output_type": "stream",
     "text": [
      "Phone Number of suhel: 9876543210\n"
     ]
    }
   ],
   "source": [
    "# 5 Create a phonebook using a dictionary where names are keys and numbers are values. Allow searching for a number by name. \n",
    "# Sample Input: \n",
    "# Phonebook = {\"Suhel\": 9876543210, \"Ravi\": 9123456780, \"Anita\": 9988776655}\n",
    "# Search Name: Ravi \n",
    "# Expected Output: \n",
    "# Phone Number of Ravi: 9123456780\n",
    "\n",
    "phonebook = {}\n",
    "n = int(input(\"How many contacts do you want to add? \"))\n",
    "for i in range(n):\n",
    "    name = input(f\"Enter name of contact {i+1}: \")\n",
    "    number = int(input(f\"Enter phone number of {name}: \"))\n",
    "    phonebook[name] = number\n",
    "\n",
    "search_name = input(\"Enter the name to search: \")\n",
    "\n",
    "if search_name in phonebook:\n",
    "    print(f\"Phone Number of {search_name}: {phonebook[search_name]}\")\n",
    "else:\n",
    "    print(f\"{search_name} not found in phonebook.\")\n"
   ]
  },
  {
   "cell_type": "code",
   "execution_count": 34,
   "id": "01865d21",
   "metadata": {},
   "outputs": [
    {
     "name": "stdout",
     "output_type": "stream",
     "text": [
      "Total Words = 3\n",
      "Total Characters = 17\n",
      "Total Vowels = 6\n"
     ]
    }
   ],
   "source": [
    "# Write a program to count the number of words, characters, and vowels in a sentence.\n",
    "# Sample Input: \n",
    "# Enter sentence: \"Python is awesome\" \n",
    "# Expected Output: \n",
    "# Total Words = 3\n",
    "# Total Characters = 16\n",
    "# Total Vowels = 6\n",
    "\n",
    "# Program to count words, characters, and vowels in a sentence\n",
    "\n",
    "sentence = input(\"Enter sentence: \")\n",
    "\n",
    "words = sentence.split()\n",
    "num_words = len(words)\n",
    "num_chars = len(sentence)\n",
    "vowels = \"aeiouAEIOU\"\n",
    "num_vowels = sum(1 for ch in sentence if ch in vowels)\n",
    "\n",
    "print(\"Total Words =\", num_words)\n",
    "print(\"Total Characters =\", num_chars)\n",
    "print(\"Total Vowels =\", num_vowels)\n"
   ]
  },
  {
   "cell_type": "code",
   "execution_count": 35,
   "id": "e6811656",
   "metadata": {},
   "outputs": [
    {
     "name": "stdout",
     "output_type": "stream",
     "text": [
      "Compound Interest = 512.5\n",
      "Total Amount = 5512.5\n"
     ]
    }
   ],
   "source": [
    "# 7 A bank provides simple interest and compound interest. A user inputs principal, rate, time, and type of interest. Program should calculate accordingly. \n",
    "# Sample Input: \n",
    "# Principal = 5000\n",
    "# Rate = 5\n",
    "# Time = 2\n",
    "# Interest Type = Compound \n",
    "# Expected Output: \n",
    "# Compound Interest = 512.50\n",
    "# Total Amount = 5512.50\n",
    "\n",
    "principal = float(input(\"Principal = \"))\n",
    "rate = float(input(\"Rate = \"))\n",
    "time = float(input(\"Time = \"))\n",
    "interest_type = input(\"Enter Interest Type (Simple/Compound): \")\n",
    "\n",
    "if interest_type.lower() == \"simple\":\n",
    "    si = (principal * rate * time) / 100\n",
    "    total = principal + si\n",
    "    print(\"Simple Interest =\", si)\n",
    "    print(\"Total Amount =\", total)\n",
    "elif interest_type.lower() == \"compound\":\n",
    "    ci = principal * ((1 + rate / 100) ** time - 1)\n",
    "    total = principal + ci\n",
    "    print(\"Compound Interest =\", round(ci, 2))\n",
    "    print(\"Total Amount =\", round(total, 2))\n",
    "else:\n",
    "    print(\"Invalid Interest Type!\")\n",
    "\n",
    " "
   ]
  },
  {
   "cell_type": "code",
   "execution_count": 36,
   "id": "042c2a93",
   "metadata": {},
   "outputs": [
    {
     "name": "stdout",
     "output_type": "stream",
     "text": [
      "Encrypted Message: KHOOR\n"
     ]
    }
   ],
   "source": [
    "# 8 Implement a Caesar Cipher encryption. User inputs a message and a shift key. Program outputs the encrypted text using operators.\n",
    "# Sample Input:\n",
    "# Message = \"HELLO\"\n",
    "# Shift = 3 \n",
    "# Expected Output: \n",
    "# Encrypted Message: KHOOR\n",
    "\n",
    "\n",
    "message = input(\"Enter Message (Uppercase): \")\n",
    "shift = int(input(\"Enter Shift: \"))\n",
    "\n",
    "encrypted = \"\"\n",
    "for ch in message:\n",
    "    if ch.isalpha():\n",
    "        encrypted += chr((ord(ch) - 65 + shift) % 26 + 65)\n",
    "    else:\n",
    "        encrypted += ch\n",
    "\n",
    "print(\"Encrypted Message:\", encrypted)\n"
   ]
  },
  {
   "cell_type": "code",
   "execution_count": 41,
   "id": "d1ee082b",
   "metadata": {},
   "outputs": [
    {
     "name": "stdout",
     "output_type": "stream",
     "text": [
      "PIN Verified.\n",
      "Withdrawal Successful. Remaining Balance = 3000.0\n"
     ]
    }
   ],
   "source": [
    "# 9 Build an ATM where users can withdraw money if they have sufficient balance, otherwise display “Insufficient Balance”. Handle PIN verification too.\n",
    "# Sample Input:\n",
    "# PIN = 1234\n",
    "# Balance = 5000\n",
    "# Withdraw = 2000 \n",
    "# Expected Output: \n",
    "# PIN Verified.\n",
    "# Withdrawal Successful. Remaining Balance = 3000\n",
    "\n",
    "\n",
    "pin = int(input(\"Enter PIN: \"))\n",
    "correct_pin = 1234\n",
    "balance = 5000\n",
    "\n",
    "if pin == correct_pin:\n",
    "    print(\"PIN Verified.\")\n",
    "    withdraw = float(input(\"Enter amount to withdraw: \"))\n",
    "    if withdraw <= balance:\n",
    "        balance -= withdraw\n",
    "        print(\"Withdrawal Successful. Remaining Balance =\", balance)\n",
    "    else:\n",
    "        print(\"Insufficient Balance.\")\n",
    "else:\n",
    "    print(\"Invalid PIN.\")\n"
   ]
  },
  {
   "cell_type": "code",
   "execution_count": null,
   "id": "17172883",
   "metadata": {},
   "outputs": [
    {
     "name": "stdout",
     "output_type": "stream",
     "text": [
      "Current Books: ['Python Basics', 'AI Fundamentals', 'Machine Learning']\n",
      "Total Books: 3\n"
     ]
    }
   ],
   "source": [
    "# 10 Store a list of books in a library. Program should allow adding, removing, and displaying all books. Also, show total number of books.\n",
    "# Sample Input: \n",
    "# Books = [\"Python Basics\", \"Data Science\", \"AI Fundamentals\"]\n",
    "# Add Book: \"Machine Learning\"\n",
    "# Remove Book: \"Data Science\" \n",
    "# Expected Output: \n",
    "# Current Books: ['Python Basics', 'AI Fundamentals', 'Machine Learning']\n",
    "# Total Books: 3\n",
    "\n",
    "\n",
    "books = [\"Python Basics\", \"Data Science\", \"AI Fundamentals\"]\n",
    "add_book = input(\"Enter book to add: \")\n",
    "books.append(add_book)\n",
    "remove_book = input(\"Enter book to remove: \")\n",
    "if remove_book in books:\n",
    "    books.remove(remove_book)\n",
    "else:\n",
    "    print(remove_book,\" not found in library\")\n",
    "\n",
    "print(\"Current Books:\", books)\n",
    "print(\"Total Books:\", len(books))\n"
   ]
  }
 ],
 "metadata": {
  "kernelspec": {
   "display_name": "Python 3",
   "language": "python",
   "name": "python3"
  },
  "language_info": {
   "codemirror_mode": {
    "name": "ipython",
    "version": 3
   },
   "file_extension": ".py",
   "mimetype": "text/x-python",
   "name": "python",
   "nbconvert_exporter": "python",
   "pygments_lexer": "ipython3",
   "version": "3.11.13"
  }
 },
 "nbformat": 4,
 "nbformat_minor": 5
}
