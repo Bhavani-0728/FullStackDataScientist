{
 "cells": [
  {
   "cell_type": "code",
   "execution_count": 1,
   "id": "7eb4526f",
   "metadata": {},
   "outputs": [
    {
     "name": "stdout",
     "output_type": "stream",
     "text": [
      "[2, 3]\n"
     ]
    }
   ],
   "source": [
    "#1. Prime Number Finder\n",
    "\n",
    "def is_prime(n):\n",
    "    if n <= 1:\n",
    "        return False\n",
    "    for i in range(2, int(n**0.5) + 1):  \n",
    "        if n % i == 0:\n",
    "            return False\n",
    "    return True\n",
    "\n",
    "n=int(input())\n",
    "m=[]\n",
    "for i in range(1,n):\n",
    "    if(is_prime(i)):\n",
    "        m.append(i)\n",
    "print(m)"
   ]
  },
  {
   "cell_type": "code",
   "execution_count": null,
   "id": "45efcf39",
   "metadata": {},
   "outputs": [
    {
     "name": "stdout",
     "output_type": "stream",
     "text": [
      "Palindrome\n"
     ]
    }
   ],
   "source": [
    "#2. Palindrome Checker\n",
    "\n",
    "def palindrome(n):\n",
    "    n=n.replace(\" \",\"\").lower()\n",
    "    i=0\n",
    "    j=len(n)-1\n",
    "    while(i<j):\n",
    "        if(n[i]!=n[j]):\n",
    "            break\n",
    "        i+=1\n",
    "        j-=1\n",
    "        return True\n",
    "\n",
    "n=input()\n",
    "if(palindrome(n)):\n",
    "    print(\"True\")\n",
    "else:\n",
    "    print(\"False\")"
   ]
  },
  {
   "cell_type": "code",
   "execution_count": 7,
   "id": "ec95444b",
   "metadata": {},
   "outputs": [
    {
     "name": "stdout",
     "output_type": "stream",
     "text": [
      "True\n"
     ]
    }
   ],
   "source": [
    "#3. Anagram Checker\n",
    "\n",
    "def is_anagram(word1,word2):\n",
    "    word1=word1.replace(\" \",\"\").lower()\n",
    "    word2=word2.replace(\" \",\"\").lower()\n",
    "\n",
    "    return sorted(word1)==sorted(word2)\n",
    "\n",
    "\n",
    "w1=input()\n",
    "w2=input()\n",
    "if is_anagram(w1,w2):\n",
    "    print(\"True\")\n",
    "else:\n",
    "    print(\"False\")"
   ]
  },
  {
   "cell_type": "code",
   "execution_count": null,
   "id": "e6158282",
   "metadata": {},
   "outputs": [
    {
     "name": "stdout",
     "output_type": "stream",
     "text": [
      "Vowels= 3 , Consonants= 1\n"
     ]
    }
   ],
   "source": [
    "#4. Count Vowels & Consonants\n",
    "\n",
    "def count(a):\n",
    "    s=len(a)\n",
    "    vowels=\"aeiouAEIOU\"\n",
    "    vc=0\n",
    "    for char in a:\n",
    "        if char.isalpha():\n",
    "            if char in vowels:\n",
    "                vc+=1\n",
    "    return vc\n",
    "\n",
    "a=input()\n",
    "n=count(a)\n",
    "print(\"Vowels=\",n,\", Consonants=\",len(a)-n)\n"
   ]
  },
  {
   "cell_type": "code",
   "execution_count": 10,
   "id": "7467d5bf",
   "metadata": {},
   "outputs": [
    {
     "name": "stdout",
     "output_type": "stream",
     "text": [
      "amazing\n"
     ]
    }
   ],
   "source": [
    "#5. Longest Word Finder\n",
    "\n",
    "def longest(word):\n",
    "    s=word.split(\" \")\n",
    "    l=\"\"\n",
    "    max=0\n",
    "    for words in s:\n",
    "        if(len(words)>max):\n",
    "            max=len(words)\n",
    "            l=words\n",
    "    return l\n",
    "\n",
    "n=input()\n",
    "print(longest(n))"
   ]
  }
 ],
 "metadata": {
  "kernelspec": {
   "display_name": "Python 3",
   "language": "python",
   "name": "python3"
  },
  "language_info": {
   "codemirror_mode": {
    "name": "ipython",
    "version": 3
   },
   "file_extension": ".py",
   "mimetype": "text/x-python",
   "name": "python",
   "nbconvert_exporter": "python",
   "pygments_lexer": "ipython3",
   "version": "3.11.13"
  }
 },
 "nbformat": 4,
 "nbformat_minor": 5
}
