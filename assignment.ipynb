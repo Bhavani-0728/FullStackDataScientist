{
 "cells": [
  {
   "cell_type": "code",
   "execution_count": 1,
   "id": "7152d29f",
   "metadata": {},
   "outputs": [
    {
     "name": "stdout",
     "output_type": "stream",
     "text": [
      "[0, 1, 1, 2, 3]\n"
     ]
    }
   ],
   "source": [
    "#1. Fibonacci Generator\n",
    "\n",
    "def fib(n):\n",
    "    seq=[0,1]\n",
    "    for i in range(2,n):\n",
    "        seq.append( seq[-1]+seq[-2])\n",
    "    return seq[:n]\n",
    "\n",
    "n=int(input())\n",
    "print(fib(n))"
   ]
  },
  {
   "cell_type": "code",
   "execution_count": 2,
   "id": "c452d349",
   "metadata": {},
   "outputs": [
    {
     "name": "stdout",
     "output_type": "stream",
     "text": [
      "40320\n"
     ]
    }
   ],
   "source": [
    "#2. Factorial Using Recursion\n",
    "\n",
    "def fac(n):\n",
    "    if n==1:\n",
    "        return 1\n",
    "    else:\n",
    "        return n*fac(n-1)\n",
    "    \n",
    "n=int(input())\n",
    "print(fac(n))"
   ]
  },
  {
   "cell_type": "code",
   "execution_count": 3,
   "id": "ffae7b26",
   "metadata": {},
   "outputs": [
    {
     "name": "stdout",
     "output_type": "stream",
     "text": [
      "{'cat': 2, 'dog': 1, 'buffalo': 1}\n"
     ]
    }
   ],
   "source": [
    "#3. Unique Words Counter\n",
    "\n",
    "def counter(s):\n",
    "    words=s.split(\" \")\n",
    "    counter={}\n",
    "    for word in words:\n",
    "        counter[word]=counter.get(word,0)+1\n",
    "    return counter\n",
    "\n",
    "n=input()\n",
    "print(counter(n))"
   ]
  },
  {
   "cell_type": "code",
   "execution_count": 8,
   "id": "4ec35adc",
   "metadata": {},
   "outputs": [
    {
     "name": "stdout",
     "output_type": "stream",
     "text": [
      "Grade: A\n"
     ]
    }
   ],
   "source": [
    "#4. Grade Calculator\n",
    "\n",
    "def grade_calculator(marks):\n",
    "    avg = sum(marks) / len(marks)\n",
    "    if avg >= 90:\n",
    "        grade = \"A+\"\n",
    "    elif avg >= 80:\n",
    "        grade = \"A\"\n",
    "    elif avg >= 70:\n",
    "        grade = \"B\"\n",
    "    elif avg >= 60:\n",
    "        grade = \"C\"\n",
    "    else:\n",
    "        grade = \"F\"\n",
    "    return f\"Grade: {grade}\"\n",
    "\n",
    "n=list(map(int,input().split()))\n",
    "print(grade_calculator(n))\n"
   ]
  },
  {
   "cell_type": "code",
   "execution_count": 10,
   "id": "cabe85a2",
   "metadata": {},
   "outputs": [
    {
     "name": "stdout",
     "output_type": "stream",
     "text": [
      "69\n"
     ]
    }
   ],
   "source": [
    "#5. Second Largest Number\n",
    "\n",
    "def second_max(n):\n",
    "    if len(n)<2:\n",
    "        return None\n",
    "    largest = float('-inf')\n",
    "    second = float('-inf')\n",
    "\n",
    "    for num in n:\n",
    "        if num>largest:\n",
    "            second=largest\n",
    "            largest=num\n",
    "        elif num>second and num != largest:\n",
    "            second=num\n",
    "\n",
    "    return second\n",
    "\n",
    "nums=[int(x) for x in input().split()]\n",
    "print(second_max(nums))\n"
   ]
  },
  {
   "cell_type": "code",
   "execution_count": 12,
   "id": "43eb72b1",
   "metadata": {},
   "outputs": [
    {
     "name": "stdout",
     "output_type": "stream",
     "text": [
      "Text files 2\n",
      "Python files 0\n"
     ]
    }
   ],
   "source": [
    "#6.  Write a program using `os` to count how many `.txt` and `.py` files are in the current directory.\n",
    "import os\n",
    "\n",
    "def count():\n",
    "    files=os.listdir(\".\")\n",
    "    txt_files=0\n",
    "    py_files=0\n",
    "    for f in files:\n",
    "        if f.endswith(\".txt\"):\n",
    "            txt_files+=1\n",
    "        elif f.endswith(\".py\"):\n",
    "            py_files+=1\n",
    "\n",
    "    print(\"Text files\",txt_files)\n",
    "    print(\"Python files\",py_files)\n",
    "\n",
    "\n",
    "count()"
   ]
  },
  {
   "cell_type": "code",
   "execution_count": 15,
   "id": "08bb3cd1",
   "metadata": {},
   "outputs": [
    {
     "name": "stdout",
     "output_type": "stream",
     "text": [
      "Mean= 87.86\n",
      "Median= 90\n",
      "Variance= 73.81\n"
     ]
    }
   ],
   "source": [
    "#7.  Use `statistics` to calculate the mean, median, and variance of student exam scores.\n",
    "import statistics\n",
    "\n",
    "scores=list(map(int,input().split()))\n",
    "print(\"Mean=\",round(statistics.mean(scores),2))\n",
    "print(\"Median=\",statistics.median(scores))\n",
    "print(\"Variance=\",round(statistics.variance(scores),2))"
   ]
  },
  {
   "cell_type": "code",
   "execution_count": 16,
   "id": "ced73d52",
   "metadata": {},
   "outputs": [
    {
     "name": "stdout",
     "output_type": "stream",
     "text": [
      "Roots are: 2.0 ,  1.0\n"
     ]
    }
   ],
   "source": [
    "#8.  Use the `math` module to solve quadratic equations of the form `ax² + bx + c = 0`.\n",
    "\n",
    "import math\n",
    "\n",
    "a,b,c=map(float,input().split())\n",
    "d=b**2-4*a*c\n",
    "if d<0:\n",
    "    print(\"No real roots\")\n",
    "else:\n",
    "    r1=(-b+math.sqrt(d))/(2*a)\n",
    "    r2=(-b-math.sqrt(d))/(2*a)\n",
    "\n",
    "print(\"Roots are:\",r1,\", \",r2)"
   ]
  },
  {
   "cell_type": "code",
   "execution_count": 27,
   "id": "3ac2345a",
   "metadata": {},
   "outputs": [
    {
     "name": "stdout",
     "output_type": "stream",
     "text": [
      "You chose Paper, Computer chose Rock\n",
      "You win\n"
     ]
    }
   ],
   "source": [
    "#9.  Use `random.choice()` to let the computer play Rock–Paper–Scissors against the user.\n",
    "import random\n",
    "\n",
    "def rps(c):\n",
    "    choices=[\"Rock\",\"Paper\",\"Scissors\"]\n",
    "    computer=random.choice(choices)\n",
    "    print(f\"You chose {c}, Computer chose {computer}\")\n",
    "    if(c==computer):\n",
    "        print(\"It's a draw\")\n",
    "    elif(c==\"Rock\" and computer==\"Scissors\") or (c==\"Paper\" and computer==\"Rock\") or (c==\"Scissors\" and computer==\"Paper\"):\n",
    "        print(\"You win\")\n",
    "    else:\n",
    "        print(\"You lose\")\n",
    "\n",
    "n=input().capitalize()\n",
    "rps(n)"
   ]
  },
  {
   "cell_type": "code",
   "execution_count": 6,
   "id": "de27d2b6",
   "metadata": {},
   "outputs": [
    {
     "name": "stdout",
     "output_type": "stream",
     "text": [
      "Usage:python fn.py num1 num2 num3\n"
     ]
    }
   ],
   "source": [
    "#10.  Write a program using `sys.argv` to take three numbers from the command line and print their sum.\n",
    "\n",
    "import sys\n",
    "\n",
    "if len(sys.argv) !=4:\n",
    "    print(\"Usage:python fn.py num1 num2 num3\")\n",
    "else:\n",
    "    nums=list(map(int,sys.argv[1:]))\n",
    "    print(\"Sum=\",sum(nums))"
   ]
  },
  {
   "cell_type": "code",
   "execution_count": 1,
   "id": "b5f49033",
   "metadata": {},
   "outputs": [
    {
     "name": "stdout",
     "output_type": "stream",
     "text": [
      "Book not available\n",
      "('You borrowed ', 'DSA')\n",
      "('You returned ', 'Python')\n",
      "Available books: {'Python': 4, 'DSA': 3}\n"
     ]
    }
   ],
   "source": [
    "#11.  Library System\n",
    "\n",
    "class Library:\n",
    "    def __init__(self,books):\n",
    "        self.books=books\n",
    "\n",
    "    def borrow(self,title):\n",
    "        if title in self.books and self.books[title]>0:\n",
    "            self.books[title]-=1\n",
    "            return \"You borrowed \",title\n",
    "        return \"Book not available\"\n",
    "    \n",
    "    def return_book(self,title):\n",
    "        if title in self.books:\n",
    "            self.books[title]+=1\n",
    "            return \"You returned \",title\n",
    "        return \"Invalid book\"\n",
    "    \n",
    "    def show_books(self):\n",
    "        print(\"Available books:\",self.books)\n",
    "\n",
    "\n",
    "lib=Library({\"Python\":3,\"DSA\":4})\n",
    "while True:\n",
    "    n=input(\"Choices:Borrow/Return/Show/Exit\").lower()\n",
    "    if n==\"borrow\":\n",
    "        print(lib.borrow(input(\"Enter book title:\")))\n",
    "    elif n==\"return\":\n",
    "        print(lib.return_book(input(\"Enter book title:\")))\n",
    "    elif n==\"show\":\n",
    "        lib.show_books()\n",
    "    elif n==\"exit\":\n",
    "        break\n",
    "\n",
    "\n",
    "\n",
    "\n",
    "\n"
   ]
  },
  {
   "cell_type": "code",
   "execution_count": 2,
   "id": "e8c156d6",
   "metadata": {},
   "outputs": [
    {
     "name": "stdout",
     "output_type": "stream",
     "text": [
      "Wrong PIN\n",
      "Login required\n",
      "Login required\n",
      "Login required\n"
     ]
    }
   ],
   "source": [
    "#12.  ATM Machine with PIN\n",
    "\n",
    "class ATM:\n",
    "    def __init__(self,pin,balance):\n",
    "        self.pin=pin\n",
    "        self.balance=balance\n",
    "        self.is_authenticated=False\n",
    "    def login(self,pin):\n",
    "        if pin==self.pin:\n",
    "            self.is_authenticated=True\n",
    "            return \"Access Granted\"\n",
    "        return \"Wrong PIN\"\n",
    "    def check_balance(self):\n",
    "        if self.is_authenticated:\n",
    "            return f\"Balance : {self.balance}\"\n",
    "        return \"Login required\"\n",
    "    def deposit(self,amount):\n",
    "        if self.is_authenticated:\n",
    "            self.balance+=amount\n",
    "            return f\"Deposited : {amount}\"\n",
    "        return \"Login required\" \n",
    "    def withdraw(self,amount):\n",
    "        if self.is_authenticated:\n",
    "            if self.balance>=amount:\n",
    "                self.balance-=amount\n",
    "                return f\"Withdrew : {amount}\"\n",
    "            return f\"Insufficient Balance\"\n",
    "        return \"Login required\" \n",
    "    \n",
    "\n",
    "atm = ATM(int(input(\"\\nSet your ATM PIN: \")), float(input(\"Enter starting balance: \")))\n",
    "print(atm.login(int(input(\"Enter PIN to login: \"))))\n",
    "print(atm.deposit(float(input(\"Enter amount to deposit: \"))))\n",
    "print(atm.withdraw(float(input(\"Enter amount to withdraw: \"))))\n",
    "print(atm.check_balance())"
   ]
  },
  {
   "cell_type": "code",
   "execution_count": 3,
   "id": "38679af1",
   "metadata": {},
   "outputs": [
    {
     "name": "stdout",
     "output_type": "stream",
     "text": [
      "Smith is teaching Python\n",
      "Alya enrolled in Python\n",
      "Smith assigned: Project 1\n",
      "Alya submitted: Project 1\n"
     ]
    }
   ],
   "source": [
    "#13.   University System\n",
    "\n",
    "class Professor:\n",
    "    def __init__(self, name, subject):\n",
    "        self.name = name\n",
    "        self.subject = subject\n",
    "\n",
    "    def teach(self, course):\n",
    "        return f\"{self.name} is teaching {course}\"\n",
    "\n",
    "    def give_assignment(self, task):\n",
    "        return f\"{self.name} assigned: {task}\"\n",
    "\n",
    "\n",
    "class Student:\n",
    "    def __init__(self, name):\n",
    "        self.name = name\n",
    "        self.courses = []\n",
    "        self.assignments = []\n",
    "\n",
    "    def enroll(self, course):\n",
    "        self.courses.append(course)\n",
    "        return f\"{self.name} enrolled in {course}\"\n",
    "\n",
    "    def submit_assignment(self, task):\n",
    "        self.assignments.append(task)\n",
    "        return f\"{self.name} submitted: {task}\"\n",
    "\n",
    "\n",
    "prof = Professor(input(\"\\nEnter professor name: \"), input(\"Enter subject: \"))\n",
    "stud = Student(input(\"Enter student name: \"))\n",
    "print(prof.teach(input(\"Enter course to teach: \")))\n",
    "print(stud.enroll(input(\"Enter course to enroll: \")))\n",
    "print(prof.give_assignment(input(\"Enter assignment: \")))\n",
    "print(stud.submit_assignment(input(\"Enter assignment submitted: \")))\n",
    "\n",
    "\n",
    "\n"
   ]
  },
  {
   "cell_type": "code",
   "execution_count": 4,
   "id": "91493618",
   "metadata": {},
   "outputs": [
    {
     "name": "stdout",
     "output_type": "stream",
     "text": [
      "Booked 5 tickets for Avatar\n",
      "Cancelled 2 ticket for Avatar\n",
      "Movies: {'Avatar': 7, 'Batman': 5}\n"
     ]
    }
   ],
   "source": [
    "#14  Movie Ticket Booking\n",
    "\n",
    "class Cinema:\n",
    "    def __init__(self, movies):\n",
    "        self.movies = movies\n",
    "\n",
    "    def book(self, movie, seats):\n",
    "        if movie in self.movies and self.movies[movie] >= seats:\n",
    "            self.movies[movie] -= seats\n",
    "            return f\"Booked {seats} tickets for {movie}\"\n",
    "        return \"Not enough seats or invalid movie\"\n",
    "\n",
    "    def cancel(self, movie, seats):\n",
    "        if movie in self.movies:\n",
    "            self.movies[movie] += seats\n",
    "            return f\"Cancelled {seats} ticket for {movie}\"\n",
    "        return \"Invalid movie\"\n",
    "\n",
    "    def show_movies(self):\n",
    "        print(\"Movies:\", self.movies)\n",
    "\n",
    "\n",
    "cinema = Cinema({\"Avatar\": 10, \"Batman\": 5})\n",
    "print(cinema.book(input(\"\\nEnter movie to book: \"), int(input(\"Enter seats: \"))))\n",
    "print(cinema.cancel(input(\"Enter movie to cancel: \"), int(input(\"Enter seats to cancel: \"))))\n",
    "cinema.show_movies()"
   ]
  },
  {
   "cell_type": "code",
   "execution_count": 5,
   "id": "cb19f18f",
   "metadata": {},
   "outputs": [
    {
     "name": "stdout",
     "output_type": "stream",
     "text": [
      "Menu: {'Chicken 65': 200}\n"
     ]
    }
   ],
   "source": [
    "#15 Restaurant Menu\n",
    "\n",
    "class Menu:\n",
    "    def __init__(self):\n",
    "        self.items = {}\n",
    "\n",
    "    def add_item(self, name, price):\n",
    "        self.items[name] = price\n",
    "        return f\"{name} added\"\n",
    "\n",
    "    def remove_item(self, name):\n",
    "        if name in self.items:\n",
    "            del self.items[name]\n",
    "            return f\"{name} removed\"\n",
    "        return \"Item not found\"\n",
    "\n",
    "    def update_price(self, name, new_price):\n",
    "        if name in self.items:\n",
    "            self.items[name] = new_price\n",
    "            return f\"{name} price updated to {new_price}\"\n",
    "        return \"Item not found\"\n",
    "\n",
    "    def show_menu(self):\n",
    "        print(\"Menu:\", self.items)\n",
    "\n",
    "\n",
    "menu = Menu()\n",
    "menu.add_item(input(\"\\nEnter item to add: \"), int(input(\"Enter price: \")))\n",
    "menu.add_item(input(\"Enter another item to add: \"), int(input(\"Enter price: \")))\n",
    "menu.update_price(input(\"Enter item to update price: \"), int(input(\"Enter new price: \")))\n",
    "menu.remove_item(input(\"Enter item to remove: \"))\n",
    "menu.show_menu()"
   ]
  }
 ],
 "metadata": {
  "kernelspec": {
   "display_name": "Python 3",
   "language": "python",
   "name": "python3"
  },
  "language_info": {
   "codemirror_mode": {
    "name": "ipython",
    "version": 3
   },
   "file_extension": ".py",
   "mimetype": "text/x-python",
   "name": "python",
   "nbconvert_exporter": "python",
   "pygments_lexer": "ipython3",
   "version": "3.11.13"
  }
 },
 "nbformat": 4,
 "nbformat_minor": 5
}
