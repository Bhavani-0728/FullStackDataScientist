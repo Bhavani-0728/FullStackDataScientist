{
 "cells": [
  {
   "cell_type": "code",
   "execution_count": 2,
   "id": "f73a716b",
   "metadata": {},
   "outputs": [
    {
     "name": "stdout",
     "output_type": "stream",
     "text": [
      "}UVo@O0\n"
     ]
    }
   ],
   "source": [
    "#1. Random Password Generator (`random`, `string`)\n",
    "\n",
    "import random,string\n",
    "\n",
    "def password(n):\n",
    "    characters=string.ascii_letters + string.digits + string.punctuation\n",
    "    pw=''.join(random.choice(characters) for _ in range(n))\n",
    "    return pw\n",
    "\n",
    "n=int(input())\n",
    "print(password(n))"
   ]
  },
  {
   "cell_type": "code",
   "execution_count": 5,
   "id": "9c4a0112",
   "metadata": {},
   "outputs": [
    {
     "name": "stdout",
     "output_type": "stream",
     "text": [
      "Result: 0.5139784559875352\n"
     ]
    }
   ],
   "source": [
    "#2. Simple Calculator with `math\n",
    "\n",
    "import math\n",
    "\n",
    "def calculator(expression):\n",
    "    if\"(\" in expression and expression.endswith(\")\"):\n",
    "        func,num=expression.split(\"(\")\n",
    "        num=float(num[:-1])\n",
    "        match func.lower():\n",
    "            case \"sqrt\":\n",
    "                return math.sqrt(num)\n",
    "            case \"factorial\":\n",
    "                return math.factorial(num)\n",
    "            case \"sin\":\n",
    "                return math.sin(num)\n",
    "            case \"cos\":\n",
    "                return math.cos(num)\n",
    "            case _:\n",
    "                return \"Invalid statement\"\n",
    "    else:\n",
    "        return \"Invalid input format\"\n",
    "    \n",
    "expr=input()\n",
    "print(\"Result:\",calculator(expr))"
   ]
  },
  {
   "cell_type": "code",
   "execution_count": 7,
   "id": "c01e241e",
   "metadata": {},
   "outputs": [
    {
     "name": "stdout",
     "output_type": "stream",
     "text": [
      "Counter({'air': 2, 'water': 1})\n"
     ]
    }
   ],
   "source": [
    "#3. Word Frequency Counter (`collections.Counter`)\n",
    "\n",
    "from collections import Counter\n",
    "\n",
    "n=input().split(\" \")\n",
    "count=Counter(n)\n",
    "print(count)\n",
    "\n"
   ]
  },
  {
   "cell_type": "code",
   "execution_count": 9,
   "id": "23b9d0f7",
   "metadata": {},
   "outputs": [
    {
     "name": "stdout",
     "output_type": "stream",
     "text": [
      "Weather : Snowy, Temperature : 40°C\n"
     ]
    }
   ],
   "source": [
    "#4. Weather Simulator (`random`)\n",
    "\n",
    "import random\n",
    "\n",
    "def weather_simulator():\n",
    "    weather=random.choice([\"Sunny\",\"Rainy\",\"Cloudy\",\"Stormy\",\"Windy\",\"Snowy\"])\n",
    "    temp=random.randint(-30,50)\n",
    "    return f\"Weather : {weather}, Temperature : {temp}°C\"\n",
    "\n",
    "print(weather_simulator())"
   ]
  },
  {
   "cell_type": "code",
   "execution_count": 10,
   "id": "3f87f39a",
   "metadata": {},
   "outputs": [
    {
     "name": "stdout",
     "output_type": "stream",
     "text": [
      "10\n",
      "9\n",
      "8\n",
      "7\n",
      "6\n",
      "5\n",
      "4\n",
      "3\n",
      "2\n",
      "1\n",
      "Time Up!!\n"
     ]
    }
   ],
   "source": [
    "#5. Timer Program (`time`)\n",
    "import time \n",
    "\n",
    "def countdown(n):\n",
    "    for i in range(n,0,-1):\n",
    "        print(i)\n",
    "        time.sleep(1)\n",
    "    print(\"Time Up!!\")\n",
    "\n",
    "n=int(input())\n",
    "countdown(n)"
   ]
  }
 ],
 "metadata": {
  "kernelspec": {
   "display_name": "Python 3",
   "language": "python",
   "name": "python3"
  },
  "language_info": {
   "codemirror_mode": {
    "name": "ipython",
    "version": 3
   },
   "file_extension": ".py",
   "mimetype": "text/x-python",
   "name": "python",
   "nbconvert_exporter": "python",
   "pygments_lexer": "ipython3",
   "version": "3.11.13"
  }
 },
 "nbformat": 4,
 "nbformat_minor": 5
}
