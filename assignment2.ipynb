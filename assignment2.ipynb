{
 "cells": [
  {
   "cell_type": "code",
   "execution_count": 1,
   "id": "83dd89e8",
   "metadata": {},
   "outputs": [
    {
     "name": "stdout",
     "output_type": "stream",
     "text": [
      "Total words: 286\n"
     ]
    }
   ],
   "source": [
    "#1. Problem: Given a text file, count the total number of words.\n",
    "\n",
    "filename = input(\"Enter filename: \")\n",
    "with open(filename, \"r\") as f:\n",
    "    text = f.read()\n",
    "words = text.split()\n",
    "print(\"Total words:\", len(words))\n"
   ]
  },
  {
   "cell_type": "code",
   "execution_count": 2,
   "id": "ddd681db",
   "metadata": {},
   "outputs": [
    {
     "name": "stdout",
     "output_type": "stream",
     "text": [
      "Strong password\n"
     ]
    }
   ],
   "source": [
    "#2. Problem: Write a program to check if a password is strong (at least 8 characters, contains uppercase, lowercase, digit, and special char).\n",
    "\n",
    "import re\n",
    "\n",
    "password = input(\"Enter password: \")\n",
    "if (len(password) >= 8 and\n",
    "    re.search(r\"[A-Z]\", password) and\n",
    "    re.search(r\"[a-z]\", password) and\n",
    "    re.search(r\"[0-9]\", password) and\n",
    "    re.search(r\"[@$!%*?&]\", password)):\n",
    "    print(\"Strong password\")\n",
    "else:\n",
    "    print(\"Weak password\")\n"
   ]
  },
  {
   "cell_type": "code",
   "execution_count": 3,
   "id": "f1500e81",
   "metadata": {},
   "outputs": [
    {
     "name": "stdout",
     "output_type": "stream",
     "text": [
      "Result: 123.0\n"
     ]
    }
   ],
   "source": [
    "#3. Problem: Implement a calculator with +, -, *, / operations.\n",
    "\n",
    "a = float(input(\"Enter first number: \"))\n",
    "b = float(input(\"Enter second number: \"))\n",
    "op = input(\"Enter operation (+,-,*,/): \")\n",
    "\n",
    "if op == '+':\n",
    "    print(\"Result:\", a + b)\n",
    "elif op == '-':\n",
    "    print(\"Result:\", a - b)\n",
    "elif op == '*':\n",
    "    print(\"Result:\", a * b)\n",
    "elif op == '/':\n",
    "    if b != 0:\n",
    "        print(\"Result:\", a / b)\n",
    "    else:\n",
    "        print(\"Division by zero not allowed\")\n",
    "else:\n",
    "    print(\"Invalid operation\")\n"
   ]
  },
  {
   "cell_type": "code",
   "execution_count": 4,
   "id": "96380e20",
   "metadata": {},
   "outputs": [
    {
     "name": "stdout",
     "output_type": "stream",
     "text": [
      "Duplicates: ['Charlie', 'Ali']\n"
     ]
    }
   ],
   "source": [
    "#4. Problem: Given a list of student names, find duplicates.\n",
    "\n",
    "names = input(\"Enter student names separated by space: \").split()\n",
    "duplicates = [name for name in set(names) if names.count(name) > 1]\n",
    "print(\"Duplicates:\", duplicates)\n"
   ]
  },
  {
   "cell_type": "code",
   "execution_count": 5,
   "id": "ec34c8ca",
   "metadata": {},
   "outputs": [
    {
     "name": "stdout",
     "output_type": "stream",
     "text": [
      "Fahrenheit: 96.8\n"
     ]
    }
   ],
   "source": [
    "#5. Problem: Convert between Celsius and Fahrenheit.\n",
    "\n",
    "choice = input(\"Convert (C/F): \")\n",
    "temp = float(input(\"Enter temperature: \"))\n",
    "\n",
    "if choice.upper() == \"C\":\n",
    "    print(\"Fahrenheit:\", (temp * 9/5) + 32)\n",
    "elif choice.upper() == \"F\":\n",
    "    print(\"Celsius:\", (temp - 32) * 5/9)\n",
    "else:\n",
    "    print(\"Invalid choice\")\n"
   ]
  },
  {
   "cell_type": "code",
   "execution_count": 6,
   "id": "27855896",
   "metadata": {},
   "outputs": [
    {
     "name": "stdout",
     "output_type": "stream",
     "text": [
      "Largest number: 567\n"
     ]
    }
   ],
   "source": [
    "#6. Problem: Find the largest number from a list of integers.\n",
    "\n",
    "nums = list(map(int, input(\"Enter numbers: \").split()))\n",
    "print(\"Largest number:\", max(nums))\n"
   ]
  },
  {
   "cell_type": "code",
   "execution_count": 8,
   "id": "2b3e4354",
   "metadata": {},
   "outputs": [
    {
     "name": "stdout",
     "output_type": "stream",
     "text": [
      "Simple Interest: 680.0\n"
     ]
    }
   ],
   "source": [
    "#7. Problem: Calculate Simple Interest.\n",
    "\n",
    "p = float(input(\"Enter Principal: \"))\n",
    "r = float(input(\"Enter Rate: \"))\n",
    "t = float(input(\"Enter Time: \"))\n",
    "si = (p * r * t) / 100\n",
    "print(\"Simple Interest:\", si)\n"
   ]
  },
  {
   "cell_type": "code",
   "execution_count": 10,
   "id": "b9dfa413",
   "metadata": {},
   "outputs": [
    {
     "name": "stdout",
     "output_type": "stream",
     "text": [
      "Defaulters: ['Akshu']\n"
     ]
    }
   ],
   "source": [
    "#8. Problem: Given a dictionary of student names and attendance %, find defaulters (<75%).\n",
    "\n",
    "n = int(input(\"Enter number of students: \"))\n",
    "students = {}\n",
    "for _ in range(n):\n",
    "    name = input(\"Enter name: \")\n",
    "    percent = float(input(\"Enter attendance %: \"))\n",
    "    students[name] = percent\n",
    "\n",
    "defaulters = [name for name, att in students.items() if att < 75]\n",
    "print(\"Defaulters:\", defaulters)\n"
   ]
  },
  {
   "cell_type": "code",
   "execution_count": 11,
   "id": "696e7009",
   "metadata": {},
   "outputs": [
    {
     "name": "stdout",
     "output_type": "stream",
     "text": [
      "Sum of digits: 10\n"
     ]
    }
   ],
   "source": [
    "#9. Problem: Input: 1234 → Output: 10\n",
    "\n",
    "num = input(\"Enter number: \")\n",
    "print(\"Sum of digits:\", sum(int(d) for d in num))\n"
   ]
  },
  {
   "cell_type": "code",
   "execution_count": 12,
   "id": "0fec1923",
   "metadata": {},
   "outputs": [
    {
     "name": "stdout",
     "output_type": "stream",
     "text": [
      "Not Prime\n"
     ]
    }
   ],
   "source": [
    "#10. Problem: Write a function to check if a number is prime.\n",
    "\n",
    "num = int(input(\"Enter number: \"))\n",
    "if num < 2:\n",
    "    print(\"Not Prime\")\n",
    "else:\n",
    "    for i in range(2, int(num**0.5) + 1):\n",
    "        if num % i == 0:\n",
    "            print(\"Not Prime\")\n",
    "            break\n",
    "    else:\n",
    "        print(\"Prime\")\n"
   ]
  },
  {
   "cell_type": "code",
   "execution_count": 13,
   "id": "3c529495",
   "metadata": {},
   "outputs": [
    {
     "name": "stdout",
     "output_type": "stream",
     "text": [
      "Smallest: 12\n",
      "Largest: 342\n"
     ]
    }
   ],
   "source": [
    "#11. Problem: Find smallest and largest numbers from a list.\n",
    "\n",
    "nums = list(map(int, input(\"Enter numbers: \").split()))\n",
    "print(\"Smallest:\", min(nums))\n",
    "print(\"Largest:\", max(nums))\n"
   ]
  },
  {
   "cell_type": "code",
   "execution_count": 14,
   "id": "e507e1f2",
   "metadata": {},
   "outputs": [
    {
     "name": "stdout",
     "output_type": "stream",
     "text": [
      "Total bill: 445.0\n"
     ]
    }
   ],
   "source": [
    "#12. Problem: Given items with prices in a dictionary, calculate total bill.\n",
    "\n",
    "n = int(input(\"Enter number of items: \"))\n",
    "items = {}\n",
    "for _ in range(n):\n",
    "    item = input(\"Enter item name: \")\n",
    "    price = float(input(\"Enter price: \"))\n",
    "    items[item] = price\n",
    "\n",
    "print(\"Total bill:\", sum(items.values()))\n"
   ]
  },
  {
   "cell_type": "code",
   "execution_count": 15,
   "id": "81650692",
   "metadata": {},
   "outputs": [
    {
     "name": "stdout",
     "output_type": "stream",
     "text": [
      "Largest: 78\n"
     ]
    }
   ],
   "source": [
    "#13. Problem: Input 3 numbers, print the largest.\n",
    "\n",
    "a, b, c = map(int, input(\"Enter 3 numbers: \").split())\n",
    "print(\"Largest:\", max(a, b, c))\n"
   ]
  },
  {
   "cell_type": "code",
   "execution_count": 16,
   "id": "6cd21ce1",
   "metadata": {},
   "outputs": [
    {
     "name": "stdout",
     "output_type": "stream",
     "text": [
      "Character counts: {'a': 3, 'b': 4, 'c': 2, 'h': 2}\n"
     ]
    }
   ],
   "source": [
    "#14. Problem: Count how many times each character appears in a string.\n",
    "\n",
    "text = input(\"Enter string: \")\n",
    "freq = {}\n",
    "for ch in text:\n",
    "    freq[ch] = freq.get(ch, 0) + 1\n",
    "print(\"Character counts:\", freq)\n"
   ]
  },
  {
   "cell_type": "code",
   "execution_count": 17,
   "id": "8bea487f",
   "metadata": {},
   "outputs": [
    {
     "name": "stdout",
     "output_type": "stream",
     "text": [
      "Electricity Bill: ₹ 2620\n"
     ]
    }
   ],
   "source": [
    "# #15. Problem: Calculate electricity bill:\n",
    "# First 100 units → ₹5/unit\n",
    "# Next 100 units → ₹7/unit\n",
    "# Above 200 units → ₹10/unit\n",
    "\n",
    "units = int(input(\"Enter units: \"))\n",
    "bill = 0\n",
    "\n",
    "if units <= 100:\n",
    "    bill = units * 5\n",
    "elif units <= 200:\n",
    "    bill = 100*5 + (units-100)*7\n",
    "else:\n",
    "    bill = 100*5 + 100*7 + (units-200)*10\n",
    "\n",
    "print(\"Electricity Bill: ₹\", bill)\n"
   ]
  }
 ],
 "metadata": {
  "kernelspec": {
   "display_name": "Python 3",
   "language": "python",
   "name": "python3"
  },
  "language_info": {
   "codemirror_mode": {
    "name": "ipython",
    "version": 3
   },
   "file_extension": ".py",
   "mimetype": "text/x-python",
   "name": "python",
   "nbconvert_exporter": "python",
   "pygments_lexer": "ipython3",
   "version": "3.11.13"
  }
 },
 "nbformat": 4,
 "nbformat_minor": 5
}
