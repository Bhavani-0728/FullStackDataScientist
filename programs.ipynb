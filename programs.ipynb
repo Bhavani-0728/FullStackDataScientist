{
 "cells": [
  {
   "cell_type": "code",
   "execution_count": 1,
   "id": "4117394b",
   "metadata": {},
   "outputs": [
    {
     "name": "stdout",
     "output_type": "stream",
     "text": [
      "Prime number\n"
     ]
    }
   ],
   "source": [
    "#11.A security system checks whether the entered code is prime for extra authentication. Write a program to check if a given number is prime.\n",
    "\n",
    "def isPrime(n):\n",
    "    if n <= 1:\n",
    "        return False\n",
    "    for i in range(2, int(n**0.5) + 1):  \n",
    "        if n % i == 0:\n",
    "            return False\n",
    "    return True\n",
    "\n",
    "n = int(input(\"Enter a number: \"))\n",
    "if isPrime(n):\n",
    "    print(\"Prime number\")\n",
    "else:\n",
    "    print(\"Not a Prime number\")\n"
   ]
  },
  {
   "cell_type": "code",
   "execution_count": 4,
   "id": "559d7248",
   "metadata": {},
   "outputs": [
    {
     "name": "stdout",
     "output_type": "stream",
     "text": [
      "Second largest score: 89\n"
     ]
    }
   ],
   "source": [
    "#12.In a class test, a teacher wants to know the second highest score among students. Write a program to find the second largest number in a list.\n",
    "\n",
    "scores = list(map(int, input(\"Enter scores: \").split()))\n",
    "largest = second = -1e9   \n",
    "for num in scores:\n",
    "    if num > largest:\n",
    "        second = largest\n",
    "        largest = num\n",
    "    elif num > second and num != largest:\n",
    "        second = num\n",
    "if second == -1e9:\n",
    "    print(\"Second largest does not exist\")\n",
    "else:\n",
    "    print(\"Second largest score:\", second)\n"
   ]
  },
  {
   "cell_type": "code",
   "execution_count": 5,
   "id": "eb16ff03",
   "metadata": {},
   "outputs": [
    {
     "name": "stdout",
     "output_type": "stream",
     "text": [
      "650\n"
     ]
    }
   ],
   "source": [
    "#13.A fitness app counts only even-numbered steps to calculate “balanced walking.” Write a program to find the sum of even numbers from 1 to 50.\n",
    "\n",
    "sum=0\n",
    "for i in range(1,51):\n",
    "    if(i%2==0):\n",
    "        sum+=i\n",
    "print(sum)"
   ]
  },
  {
   "cell_type": "code",
   "execution_count": 6,
   "id": "7604e64e",
   "metadata": {},
   "outputs": [
    {
     "name": "stdout",
     "output_type": "stream",
     "text": [
      "1 5\n"
     ]
    }
   ],
   "source": [
    "#14.A typing speed test wants to know how many uppercase and lowercase letters a user typed. Write a program to count uppercase and lowercase characters in a string.\n",
    "\n",
    "str=input()\n",
    "uc=0\n",
    "lc=0\n",
    "for char in str:\n",
    "    if(char.isalpha()):\n",
    "        if(char.islower()):\n",
    "            lc+=1\n",
    "        else:\n",
    "            uc+=1\n",
    "print(uc,lc)"
   ]
  },
  {
   "cell_type": "code",
   "execution_count": null,
   "id": "025a0a58",
   "metadata": {},
   "outputs": [
    {
     "name": "stdout",
     "output_type": "stream",
     "text": [
      "0 1 1 2 3 5 8 "
     ]
    }
   ],
   "source": [
    "#15.A financial tool simulates Fibonacci-like growth in savings. Write a program to generate the Fibonacci sequence up to n terms.\n",
    "\n",
    "def fib(n):\n",
    "    if n<=1:\n",
    "        return n\n",
    "    else:\n",
    "        return fib(n-1)+fib(n-2)\n",
    "\n",
    "n=int(input())\n",
    "for i in range(n):\n",
    "    print(fib(i),end=\" \")"
   ]
  },
  {
   "cell_type": "code",
   "execution_count": null,
   "id": "41f5edcf",
   "metadata": {},
   "outputs": [
    {
     "name": "stdout",
     "output_type": "stream",
     "text": [
      "Anagram\n"
     ]
    }
   ],
   "source": [
    "#16.A word puzzle game checks if two words are anagrams (same letters but shuffled). Write a program to check if two strings are anagrams.\n",
    "def is_anagram(word1,word2):\n",
    "    word1=word1.replace(\" \",\"\".lower())\n",
    "    word2=word2.replace(\" \",\"\".lower())\n",
    "\n",
    "    return sorted(word1)==sorted(word2)\n",
    "\n",
    "w1=input()\n",
    "w2=input()\n",
    "\n",
    "if is_anagram(w1,w2):\n",
    "    print(\"Anagram\")\n",
    "else:\n",
    "    print(\"Not Anagram\")"
   ]
  },
  {
   "cell_type": "code",
   "execution_count": null,
   "id": "dea9d426",
   "metadata": {},
   "outputs": [
    {
     "name": "stdout",
     "output_type": "stream",
     "text": [
      "28 is a Perfect Number\n"
     ]
    }
   ],
   "source": [
    "#17.A science experiment needs to verify whether a number is perfect (sum of divisors = number). Write a program to check if a number is a perfect number.\n",
    "\n",
    "def is_perfect(n):\n",
    "    if n <= 0:\n",
    "        return False\n",
    "    \n",
    "    sum = 0\n",
    "    for i in range(1, n):\n",
    "        if n % i == 0:\n",
    "            sum += i\n",
    "    \n",
    "    return sum == n\n",
    "\n",
    "num = int(input())\n",
    "\n",
    "if is_perfect(num):\n",
    "    print(num, \"is a Perfect Number\")\n",
    "else:\n",
    "    print(num, \"is Not a Perfect Number\")\n"
   ]
  },
  {
   "cell_type": "code",
   "execution_count": null,
   "id": "0b08a850",
   "metadata": {},
   "outputs": [
    {
     "name": "stdout",
     "output_type": "stream",
     "text": [
      "Percentage: 80 %\n",
      "Grade: B\n"
     ]
    }
   ],
   "source": [
    "#18.A school report system calculates percentage and assigns grades:≥90 → A ≥75 → B ≥50 → C <50 → Fail\n",
    "\n",
    "marks = int(input(\"Enter percentage: \"))\n",
    "\n",
    "if marks >= 90:\n",
    "    grade = \"A\"\n",
    "elif marks >= 75:\n",
    "    grade = \"B\"\n",
    "elif marks >= 50:\n",
    "    grade = \"C\"\n",
    "else:\n",
    "    grade = \"Fail\"\n",
    "\n",
    "print(\"Percentage:\", marks, \"%\")\n",
    "print(\"Grade:\", grade)\n"
   ]
  },
  {
   "cell_type": "code",
   "execution_count": null,
   "id": "9895e2f4",
   "metadata": {},
   "outputs": [
    {
     "name": "stdout",
     "output_type": "stream",
     "text": [
      "Prime numbers between 1 and 100:\n",
      "2 3 5 7 11 13 17 19 23 29 31 37 41 43 47 53 59 61 67 71 73 79 83 89 97 "
     ]
    }
   ],
   "source": [
    "#19.A mathematics quiz app generates all prime numbers between 1 and 100. Write a program to print all prime numbers in this range.\n",
    "\n",
    "def is_prime(n):\n",
    "    if n <= 1:\n",
    "        return False\n",
    "    for i in range(2, int(n**0.5) + 1):  \n",
    "        if n % i == 0:\n",
    "            return False\n",
    "    return True\n",
    "\n",
    "print(\"Prime numbers between 1 and 100:\")\n",
    "\n",
    "for num in range(1, 101):\n",
    "    if is_prime(num):\n",
    "        print(num, end=\" \")\n"
   ]
  },
  {
   "cell_type": "code",
   "execution_count": null,
   "id": "34557fac",
   "metadata": {},
   "outputs": [
    {
     "name": "stdout",
     "output_type": "stream",
     "text": [
      "Number of words: 3\n"
     ]
    }
   ],
   "source": [
    "#20.An online editor counts words in an article but doesn’t allow using split(). Write a program to count the number of words in a sentence.\n",
    "\n",
    "def count_words(sentence):\n",
    "    count = 0\n",
    "    in_word = False\n",
    "    \n",
    "    for ch in sentence:\n",
    "        if ch != \" \" and not in_word:   \n",
    "            count += 1\n",
    "            in_word = True\n",
    "        elif ch == \" \":           \n",
    "            in_word = False\n",
    "    \n",
    "    return count\n",
    "\n",
    "text = input(\"Enter a sentence: \")\n",
    "print(\"Number of words:\", count_words(text))\n"
   ]
  },
  {
   "cell_type": "code",
   "execution_count": 7,
   "id": "96625834",
   "metadata": {},
   "outputs": [
    {
     "name": "stdout",
     "output_type": "stream",
     "text": [
      "Final ticket price: 800.0\n"
     ]
    }
   ],
   "source": [
    "#21. Movie Ticket Discount A cinema gives a 20% discount if the customer is a student and 10% discount if the customer is a senior citizen (age ≥ 60).\n",
    "#Write a program that takes ticket price, age, and student status (yes/no) as input and prints the final ticket price.\n",
    "tic_price = int(input())\n",
    "age = int(input())\n",
    "student = input(\"Are you a student? (yes/no): \").strip().lower()\n",
    "discount = 0\n",
    "if student == \"yes\":\n",
    "    discount = 0.20 * tic_price\n",
    "elif age >= 60:\n",
    "    discount = 0.10 * tic_price\n",
    "final_price = tic_price - discount\n",
    "print(\"Final ticket price:\", final_price)"
   ]
  },
  {
   "cell_type": "code",
   "execution_count": 8,
   "id": "ef4cc7e6",
   "metadata": {},
   "outputs": [
    {
     "name": "stdout",
     "output_type": "stream",
     "text": [
      "total payable : 500.0\n"
     ]
    }
   ],
   "source": [
    "#22.Shopping Cart Free Delivery\n",
    "#An e-commerce website gives free delivery if the total cart value is more than ₹500. Otherwise, a delivery charge of ₹50 is applied.\n",
    "#Write a program that takes the cart total as input and prints the final amount payable.\n",
    "n = float(input())\n",
    "if n>=500:\n",
    "    print(\"total payable :\",n)\n",
    "else:\n",
    "    print(\"total payable :\",n+50)"
   ]
  },
  {
   "cell_type": "code",
   "execution_count": 9,
   "id": "a646cdc6",
   "metadata": {},
   "outputs": [
    {
     "name": "stdout",
     "output_type": "stream",
     "text": [
      "Grade: C\n"
     ]
    }
   ],
   "source": [
    "#23.Marks Grading System\n",
    "#A college follows this grading system:\n",
    "#90–100: A 75–89: B 50–74: C Below 50: Fail\n",
    "#Write a program that takes marks as input and prints the grade.\n",
    "m = int(input())\n",
    "if 90 <= m <= 100:\n",
    "    grade = \"A\"\n",
    "elif 75 <= m <= 89:\n",
    "    grade = \"B\"\n",
    "elif 50 <= m <= 74:\n",
    "    grade = \"C\"\n",
    "elif 0 <= m < 50:\n",
    "    grade = \"Fail\"\n",
    "else:\n",
    "    grade = \"Invalid marks\"\n",
    "print(\"Grade:\", grade)"
   ]
  },
  {
   "cell_type": "code",
   "execution_count": null,
   "id": "78fa4d12",
   "metadata": {},
   "outputs": [
    {
     "name": "stdout",
     "output_type": "stream",
     "text": [
      "tip to be added : 187.5\n"
     ]
    }
   ],
   "source": [
    "#24.Restaurant Tip Calculator A restaurant suggests tips based on the bill:\n",
    "#Less than 500 → 5% tip 500–1000 → 10% tip More than 1000 → 15% tip\n",
    "#Write a program that takes the bill amount and prints the tip to be added.\n",
    "bill = float(input())\n",
    "if bill<500:\n",
    "    tip = 0.05*bill\n",
    "elif bill>=500 and bill<=1000:\n",
    "    tip = 0.10*bill\n",
    "elif bill>1000:\n",
    "    tip = 0.15*bill\n",
    "    print(\"tip to be added :\",tip)\n"
   ]
  },
  {
   "cell_type": "code",
   "execution_count": 11,
   "id": "16a4c13b",
   "metadata": {},
   "outputs": [
    {
     "name": "stdout",
     "output_type": "stream",
     "text": [
      "Cheapest option: ₹ 2500\n"
     ]
    }
   ],
   "source": [
    "#25.Gym Membership Plan A gym charges:\n",
    "#₹500 per month ₹2700 for 6 months (discounted) ₹5000 for 12 months (discounted)\n",
    "#Write a program where the user enters the membership period (months) and the program prints the cheapest option.\n",
    "months = int(input())\n",
    "a = months * 500\n",
    "b = ((months // 6) * 2700) + ((months % 6) * 500)\n",
    "c = ((months // 12) * 5000) + ((months % 12) * 500)\n",
    "cheapest = min(a, b, c)\n",
    "print(\"Cheapest option: ₹\", cheapest)\n"
   ]
  },
  {
   "cell_type": "code",
   "execution_count": 12,
   "id": "3b4b08a5",
   "metadata": {},
   "outputs": [
    {
     "name": "stdout",
     "output_type": "stream",
     "text": [
      "not eligible\n"
     ]
    }
   ],
   "source": [
    "#26.Exam Eligibility\n",
    "#A student must have at least 75% attendance to sit for the exam.\n",
    "#Write a program that takes total classes and classes attended as input and prints whether the student is eligible or not eligible.\n",
    "total = int(input())\n",
    "attended = int(input())\n",
    "percentage = (attended*100)/total\n",
    "if percentage>=75:\n",
    "    print(\"eligible\")\n",
    "else:\n",
    "    print(\"not eligible\")"
   ]
  },
  {
   "cell_type": "code",
   "execution_count": 13,
   "id": "d7eb72da",
   "metadata": {},
   "outputs": [
    {
     "name": "stdout",
     "output_type": "stream",
     "text": [
      "transaction NOT successfull\n"
     ]
    }
   ],
   "source": [
    "#27.ATM Withdrawal\n",
    "#An ATM only allows withdrawals in multiples of 100.\n",
    "#Write a program that takes the withdrawal amount and prints whether the transaction is successful or failed.\n",
    "n = int(input())\n",
    "if n%100==0:\n",
    "    print(\"transaction successfull\")\n",
    "else:\n",
    "    print(\"transaction NOT successfull\")"
   ]
  },
  {
   "cell_type": "code",
   "execution_count": 14,
   "id": "347fee3c",
   "metadata": {},
   "outputs": [
    {
     "name": "stdout",
     "output_type": "stream",
     "text": [
      "Nice weather, go out!\n"
     ]
    }
   ],
   "source": [
    "#28.Weather Suggestion Write a program that takes the temperature as input and gives a suggestion:\n",
    "#35 → \"Too hot, stay indoors!\" 20–35 → \"Nice weather, go out!\" < 20 → \"It’s cold, wear warm clothes!\"\n",
    "n = int(input())\n",
    "if n>=35:\n",
    "    print(\"Too hot, stay indoors!\")\n",
    "elif n>=20 and n<=35:\n",
    "    print(\"Nice weather, go out!\")\n",
    "elif n<20:\n",
    "    print(\"It's cold,wear warm clothes!\")\n"
   ]
  },
  {
   "cell_type": "code",
   "execution_count": 15,
   "id": "b7155638",
   "metadata": {},
   "outputs": [
    {
     "name": "stdout",
     "output_type": "stream",
     "text": [
      "10\n"
     ]
    }
   ],
   "source": [
    "#29.Library Fine A library charges a fine for late book returns:\n",
    "#1–5 days → ₹10 6–10 days → ₹50 10 days → ₹100\n",
    "#Write a program that takes the number of late days as input and prints the fine amount.\n",
    "n = int(input())\n",
    "fine = 0\n",
    "if 1 <= n <= 5:\n",
    "    fine = 10\n",
    "elif 6 <= n <= 10:\n",
    "    fine = 50\n",
    "elif n > 10:\n",
    "    fine = 100\n",
    "print(fine)"
   ]
  },
  {
   "cell_type": "code",
   "execution_count": 16,
   "id": "0ad547f9",
   "metadata": {},
   "outputs": [
    {
     "name": "stdout",
     "output_type": "stream",
     "text": [
      "bill : 12600\n"
     ]
    }
   ],
   "source": [
    "#30.Electricity Bill Calculator An electricity board charges: First 100 units → ₹5 per unit\n",
    "#Next 100 units (101–200) → ₹7 per unit Above 200 units → ₹10 per unit\n",
    "#Write a program that takes units consumed as input and prints the bill amount.\n",
    "u = int(input())\n",
    "bill = 0\n",
    "if u <= 100:\n",
    "    bill = u * 5\n",
    "elif u <= 200:\n",
    "    bill = (100 * 5) + (u - 100) * 7\n",
    "else:\n",
    "    bill = (100 * 5) + (100 * 7) + (u - 200) * 10\n",
    "print(\"bill :\", bill)"
   ]
  }
 ],
 "metadata": {
  "kernelspec": {
   "display_name": "Python 3",
   "language": "python",
   "name": "python3"
  },
  "language_info": {
   "codemirror_mode": {
    "name": "ipython",
    "version": 3
   },
   "file_extension": ".py",
   "mimetype": "text/x-python",
   "name": "python",
   "nbconvert_exporter": "python",
   "pygments_lexer": "ipython3",
   "version": "3.11.13"
  }
 },
 "nbformat": 4,
 "nbformat_minor": 5
}
